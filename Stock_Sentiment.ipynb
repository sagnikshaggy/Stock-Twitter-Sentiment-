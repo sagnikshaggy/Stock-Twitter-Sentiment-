{
  "nbformat": 4,
  "nbformat_minor": 0,
  "metadata": {
    "colab": {
      "name": "Stock Sentiment.ipynb",
      "provenance": [],
      "collapsed_sections": [],
      "authorship_tag": "ABX9TyOnTaTJHWEtLgi/QzoaxRg5",
      "include_colab_link": true
    },
    "kernelspec": {
      "name": "python3",
      "display_name": "Python 3"
    },
    "language_info": {
      "name": "python"
    }
  },
  "cells": [
    {
      "cell_type": "markdown",
      "metadata": {
        "id": "view-in-github",
        "colab_type": "text"
      },
      "source": [
        "<a href=\"https://colab.research.google.com/github/sagnikshaggy/Stock-Twitter-Sentiment-/blob/main/Stock_Sentiment.ipynb\" target=\"_parent\"><img src=\"https://colab.research.google.com/assets/colab-badge.svg\" alt=\"Open In Colab\"/></a>"
      ]
    },
    {
      "cell_type": "markdown",
      "source": [
        "# **INSTALLS**"
      ],
      "metadata": {
        "id": "k2j5WsWdJ_Qj"
      }
    },
    {
      "cell_type": "code",
      "metadata": {
        "colab": {
          "base_uri": "https://localhost:8080/"
        },
        "id": "U3HcPvAaSP9e",
        "outputId": "339cb8ea-7a5f-47c2-f43d-8148d80e2490"
      },
      "source": [
        "pip install yfinance"
      ],
      "execution_count": null,
      "outputs": [
        {
          "output_type": "stream",
          "name": "stdout",
          "text": [
            "Collecting yfinance\n",
            "  Downloading yfinance-0.1.63.tar.gz (26 kB)\n",
            "Requirement already satisfied: pandas>=0.24 in /usr/local/lib/python3.7/dist-packages (from yfinance) (1.1.5)\n",
            "Requirement already satisfied: numpy>=1.15 in /usr/local/lib/python3.7/dist-packages (from yfinance) (1.19.5)\n",
            "Requirement already satisfied: requests>=2.20 in /usr/local/lib/python3.7/dist-packages (from yfinance) (2.23.0)\n",
            "Requirement already satisfied: multitasking>=0.0.7 in /usr/local/lib/python3.7/dist-packages (from yfinance) (0.0.9)\n",
            "Collecting lxml>=4.5.1\n",
            "  Downloading lxml-4.6.3-cp37-cp37m-manylinux2014_x86_64.whl (6.3 MB)\n",
            "\u001b[K     |████████████████████████████████| 6.3 MB 13.2 MB/s \n",
            "\u001b[?25hRequirement already satisfied: pytz>=2017.2 in /usr/local/lib/python3.7/dist-packages (from pandas>=0.24->yfinance) (2018.9)\n",
            "Requirement already satisfied: python-dateutil>=2.7.3 in /usr/local/lib/python3.7/dist-packages (from pandas>=0.24->yfinance) (2.8.2)\n",
            "Requirement already satisfied: six>=1.5 in /usr/local/lib/python3.7/dist-packages (from python-dateutil>=2.7.3->pandas>=0.24->yfinance) (1.15.0)\n",
            "Requirement already satisfied: chardet<4,>=3.0.2 in /usr/local/lib/python3.7/dist-packages (from requests>=2.20->yfinance) (3.0.4)\n",
            "Requirement already satisfied: idna<3,>=2.5 in /usr/local/lib/python3.7/dist-packages (from requests>=2.20->yfinance) (2.10)\n",
            "Requirement already satisfied: certifi>=2017.4.17 in /usr/local/lib/python3.7/dist-packages (from requests>=2.20->yfinance) (2021.5.30)\n",
            "Requirement already satisfied: urllib3!=1.25.0,!=1.25.1,<1.26,>=1.21.1 in /usr/local/lib/python3.7/dist-packages (from requests>=2.20->yfinance) (1.24.3)\n",
            "Building wheels for collected packages: yfinance\n",
            "  Building wheel for yfinance (setup.py) ... \u001b[?25l\u001b[?25hdone\n",
            "  Created wheel for yfinance: filename=yfinance-0.1.63-py2.py3-none-any.whl size=23918 sha256=72ccda2099322c4af74f38bb83d35d1b1eb156ce46be75429df47d21c0a4121c\n",
            "  Stored in directory: /root/.cache/pip/wheels/fe/87/8b/7ec24486e001d3926537f5f7801f57a74d181be25b11157983\n",
            "Successfully built yfinance\n",
            "Installing collected packages: lxml, yfinance\n",
            "  Attempting uninstall: lxml\n",
            "    Found existing installation: lxml 4.2.6\n",
            "    Uninstalling lxml-4.2.6:\n",
            "      Successfully uninstalled lxml-4.2.6\n",
            "Successfully installed lxml-4.6.3 yfinance-0.1.63\n"
          ]
        }
      ]
    },
    {
      "cell_type": "code",
      "metadata": {
        "colab": {
          "base_uri": "https://localhost:8080/"
        },
        "id": "rIVhkXzISycW",
        "outputId": "ee87cde7-4a2b-4e43-a959-4dfb01e3f21f"
      },
      "source": [
        "pip install yahoofinancials"
      ],
      "execution_count": null,
      "outputs": [
        {
          "output_type": "stream",
          "name": "stdout",
          "text": [
            "Collecting yahoofinancials\n",
            "  Downloading yahoofinancials-1.6.tar.gz (27 kB)\n",
            "Requirement already satisfied: beautifulsoup4 in /usr/local/lib/python3.7/dist-packages (from yahoofinancials) (4.6.3)\n",
            "Requirement already satisfied: pytz in /usr/local/lib/python3.7/dist-packages (from yahoofinancials) (2018.9)\n",
            "Building wheels for collected packages: yahoofinancials\n",
            "  Building wheel for yahoofinancials (setup.py) ... \u001b[?25l\u001b[?25hdone\n",
            "  Created wheel for yahoofinancials: filename=yahoofinancials-1.6-py3-none-any.whl size=15190 sha256=516b14a8a70293a136d1032140ba7bb4eb102a1871631b9ae6fa5eb1bdc002d0\n",
            "  Stored in directory: /root/.cache/pip/wheels/4b/63/46/e7110bfee88685fe69e338d1b14d1748921862aa57b6705b60\n",
            "Successfully built yahoofinancials\n",
            "Installing collected packages: yahoofinancials\n",
            "Successfully installed yahoofinancials-1.6\n"
          ]
        }
      ]
    },
    {
      "cell_type": "markdown",
      "source": [
        "# **IMPORTS**"
      ],
      "metadata": {
        "id": "hAcAYTnnKGt9"
      }
    },
    {
      "cell_type": "code",
      "metadata": {
        "id": "86h7q1-Mk35R"
      },
      "source": [
        "import tweepy\n",
        "from textblob import TextBlob\n",
        "import pandas as pd\n",
        "import numpy as np\n",
        "import re\n",
        "import matplotlib.pyplot as plt\n",
        "import datetime as datetime\n",
        "plt.style.use('fivethirtyeight')\n",
        "import yfinance as yf\n",
        "from yahoofinancials import YahooFinancials"
      ],
      "execution_count": null,
      "outputs": []
    },
    {
      "cell_type": "markdown",
      "source": [
        "# **TWITTER AUTHENTICATION**"
      ],
      "metadata": {
        "id": "wrvCibS9KY_q"
      }
    },
    {
      "cell_type": "code",
      "metadata": {
        "id": "mcOYNfnzld80"
      },
      "source": [
        "authenticate = tweepy.OAuthHandler('nGl7z1dOahjmkBy3JyMzbW97t','DxUTVVB8g943XMWxK6TdSffrPKCJ4Vkl8Z6MRkV6tN0M9hC4l6')\n",
        "authenticate.set_access_token('955136760161292288-WBASBfndFoMMTPGUBszS1Yvb0agAdvk', 'a49eF9i5zfTGomSu9QPW2eBNCt1Fx1kS9M6MS3XYNhJa8')\n",
        "api = tweepy.API(authenticate, wait_on_rate_limit = True)\n",
        "#AAAAAAAAAAAAAAAAAAAAAAEqTgEAAAAAw32BQBEt8LwFC5ksf0OAXfp10m0%3DohzsGoZKgzdgCl9h9MsKWlWmNE8MHHkPw54w5qyEjzltIz6HqI\n",
        "\n"
      ],
      "execution_count": null,
      "outputs": []
    },
    {
      "cell_type": "markdown",
      "source": [
        "Cleans up the tweet removing numbers, websites, anything unimportant."
      ],
      "metadata": {
        "id": "s4bdarxqKcV4"
      }
    },
    {
      "cell_type": "code",
      "metadata": {
        "id": "weOtjArPTiar"
      },
      "source": [
        "def cleanTweet(twt):\n",
        "  twt = re.sub('#[A-Za-z0-9]+','',twt)\n",
        "  twt = re.sub('\\\\n','', twt)\n",
        "  twt = re.sub('https?:\\/\\/\\S+', '', twt)\n",
        "  return twt"
      ],
      "execution_count": null,
      "outputs": []
    },
    {
      "cell_type": "markdown",
      "source": [
        "Gets stock price data frame"
      ],
      "metadata": {
        "id": "6V4VYyLbKrp7"
      }
    },
    {
      "cell_type": "code",
      "metadata": {
        "id": "8f2qRUGuh36D"
      },
      "source": [
        "def getStock(stkr):  \n",
        "  ps = yf.download(stkr, \n",
        "                      start='2021-10-06', \n",
        "                      end='2021-10-09', \n",
        "                      progress=False,\n",
        "  )\n",
        "\n",
        "\n",
        "  ps = ps[['Adj Close']]\n",
        "  ps['Shift'] = ps['Adj Close'].shift(1)\n",
        "  ps['Diff'] = ps['Adj Close'] - ps['Shift']\n",
        "  ps['% Change'] = ps['Diff']/ps['Adj Close']\n",
        "  big = ps['% Change'] * 100\n",
        "  #lol.to_frame\n",
        "  #lol.reindex(index=lol.index[::-1])\n",
        "  #big.iloc[1:]\n",
        "  #print(big)\n",
        "  big = big.tolist()\n",
        "  big.pop(0)\n",
        "  return big\n"
      ],
      "execution_count": null,
      "outputs": []
    },
    {
      "cell_type": "markdown",
      "source": [
        "Gathers sentiment data and returns it along with tweets in one single data frame."
      ],
      "metadata": {
        "id": "klt5WAyUKwAc"
      }
    },
    {
      "cell_type": "code",
      "metadata": {
        "id": "n819bbAgvwKR"
      },
      "source": [
        "def getNumSents(stock, dateOf):\n",
        "  search_term = '#'+stock+' -filter:retweets'\n",
        "  dateprev = datereducer(dateOf,-1)\n",
        "  tweets = tweepy.Cursor(api.search, q=search_term, lang = 'en', since = dateprev , until = dateOf , tweet_mode = 'extended').items(2000)\n",
        "  all_tweets = [[tweet.full_text, tweet.created_at] for tweet in tweets]\n",
        "  df = pd.DataFrame(all_tweets, columns = ['Tweets', 'Time'])\n",
        "\n",
        "\n",
        "\n",
        "  df['Cleaned'] = df['Tweets'].apply(cleanTweet)\n",
        "  df['Subjectivity'] = df['Cleaned'].apply(getSubjectivity)\n",
        "  df['Polarity'] = df['Cleaned'].apply(getPolarity)\n",
        "  df['Sentiment'] = df['Polarity'].apply(getSentiment)\n",
        "  \n",
        "  return df\n"
      ],
      "execution_count": null,
      "outputs": []
    },
    {
      "cell_type": "code",
      "metadata": {
        "id": "3SdsL6vBiCUh"
      },
      "source": [
        "#needs to be updated so that it considers month and year\n",
        "#may be able to use datetime methods\n",
        "def datereducer(string, num):\n",
        "  day = string[8:10]\n",
        "  eday = string[0:8]\n",
        "  day = int(day)\n",
        "  newday = day + num\n",
        "  newday = str(newday)\n",
        "  return (eday+newday)\n",
        "\n",
        "\n"
      ],
      "execution_count": null,
      "outputs": []
    },
    {
      "cell_type": "markdown",
      "source": [
        "Returns data frame of sentiment data."
      ],
      "metadata": {
        "id": "2vB3-rMDLHrB"
      }
    },
    {
      "cell_type": "code",
      "metadata": {
        "id": "g4NNYERv6kTt"
      },
      "source": [
        "def getSentsDf(stock):\n",
        "  num = pd.DataFrame()\n",
        "  i = 0\n",
        "  date = '2021-10-08'\n",
        "  List1 = []\n",
        "  List2 = []\n",
        "  List3 = []\n",
        "  while(i < 8):\n",
        "    weekno = datetime.datetime.strptime(date, '%Y-%m-%d').date().weekday()\n",
        "    if(weekno < 5):\n",
        "      \n",
        "      df = getNumSents(stock,date)\n",
        "      print(df)\n",
        "      t = df['Sentiment'].value_counts(normalize = True)[0]\n",
        "      t2 = df['Sentiment'].value_counts(normalize = True)[1]\n",
        "\n",
        "      \n",
        "    \n",
        "    #if(weekno == 5):\n",
        "      #List3.append(datereducer(date,2))\n",
        "      \n",
        "    #elif(weekno == 6):\n",
        "      #List3.append(datereducer(date,1))\n",
        "      List1.append(t)\n",
        "      List2.append(t2)\n",
        "      List3.append(weekno)\n",
        "      print(List1)\n",
        "    date = datereducer(date, -1)\n",
        "    print(date)\n",
        "    i += 1\n",
        "  num['Positive'] = List1\n",
        "  num['Negative'] = List2\n",
        "  num['Date'] = List3\n",
        "  num['Price'] = getStock(stock)\n",
        "  print(num)\n",
        "  return num\n",
        "  \n",
        "\n"
      ],
      "execution_count": null,
      "outputs": []
    },
    {
      "cell_type": "markdown",
      "source": [
        "Support methods to get subjectivty, polarity, and sentiment."
      ],
      "metadata": {
        "id": "ypua6NwkLA8w"
      }
    },
    {
      "cell_type": "code",
      "metadata": {
        "id": "4p5sqidoTvTd"
      },
      "source": [
        "\n",
        "def getSubjectivity(twt):\n",
        "  return TextBlob(twt).sentiment.subjectivity\n",
        "\n",
        "def getPolarity(twt):\n",
        "  return TextBlob(twt).sentiment.polarity"
      ],
      "execution_count": null,
      "outputs": []
    },
    {
      "cell_type": "code",
      "metadata": {
        "id": "UM8wg0QcVBzD"
      },
      "source": [
        "def getSentiment(score):\n",
        "  if score < 0:\n",
        "    return 'Negative'\n",
        "  elif score == 0:\n",
        "    return 'Neutral'\n",
        "  else:\n",
        "    return 'Positive'\n"
      ],
      "execution_count": null,
      "outputs": []
    },
    {
      "cell_type": "code",
      "metadata": {
        "colab": {
          "base_uri": "https://localhost:8080/",
          "height": 1000
        },
        "id": "mfNx9lqgL95Q",
        "outputId": "5631d823-f223-4101-82e0-aa1680c33615"
      },
      "source": [
        "aapl = getSentsDf('AAPL')\n",
        "aapl['Price'] = getStock('AAPL')\n",
        "#print(aapl)\n",
        "ge = getSentsDf('GE')\n",
        "ge['Price'] = getStock('GE')\n",
        "#print('GE')\n",
        "frame = ge.append([aapl])\n",
        "#print(frame)"
      ],
      "execution_count": null,
      "outputs": [
        {
          "output_type": "stream",
          "name": "stdout",
          "text": [
            "                                               Tweets  ... Sentiment\n",
            "0   https://t.co/t1s0GdFSR0 MERCH - LUXURY GIFT LI...  ...   Neutral\n",
            "1   Apple Inc price at close, 2021-10-07, is 143.2...  ...   Neutral\n",
            "2   #AAPL #electricvehicles Analyst: A 2024 Apple ...  ...   Neutral\n",
            "3   $AAPL closed today at $143.29.\\n\\nIf you bough...  ...  Negative\n",
            "4   The new Contour face on Apple Watch Series 7 —...  ...  Positive\n",
            "5   Learnin how to trade #AAPL myself. 📈 @KeepIt1K...  ...   Neutral\n",
            "6   Everyone Can Code Early Learners is a new acti...  ...  Positive\n",
            "7   #Apple (ticker: #AAPL) first launched the Appl...  ...  Positive\n",
            "8   Don't underestimate “Production Hell” #AAPL #T...  ...   Neutral\n",
            "9   APPLE #AAPL #StockToWatch https://t.co/dFiVV8gFNq  ...   Neutral\n",
            "10  While everyone shares their fancy trading setu...  ...   Neutral\n",
            "11  https://t.co/t1s0GdFSR0 MERCH - LUXURY GIFT LI...  ...   Neutral\n",
            "12  I’ve been in love❤️with #AAPL @Apple since the...  ...  Positive\n",
            "13                              #AAPL on the come up!  ...   Neutral\n",
            "14  Confirmed earnings releases scheduled for Octo...  ...  Positive\n",
            "15  #US mentioned yesterday quite frankly could ha...  ...  Positive\n",
            "16  Resources for educators and families help guid...  ...   Neutral\n",
            "17  CHECK OUT https://t.co/t1s0GdFSR0 MERCH! THE H...  ...  Positive\n",
            "18  How Apple built the iPhone 13’s Cinematic Mode...  ...   Neutral\n",
            "19  @petenajarian what do you think of #aapl creat...  ...  Negative\n",
            "20  Confirmed earnings releases scheduled for Octo...  ...  Positive\n",
            "21  Still thinking about why you should join @gold...  ...   Neutral\n",
            "22  #AAPL #AppleWatch If You Invested $1,000 In Ap...  ...  Positive\n",
            "23  #AAPL #MSFT #NVDA\\nDo ya still think this mark...  ...  Positive\n",
            "24  #AAPL #bigtech Apple's Crown As World's Most V...  ...  Positive\n",
            "25  Twitter Sells Ad Unit Mo Pub To AppLovin For $...  ...   Neutral\n",
            "26  #AAPL #APP Twitter Sells Ad Unit Mo Pub To App...  ...   Neutral\n",
            "27  #AAPL #Antitrust Apple Advertises Its Own Musi...  ...  Positive\n",
            "28  Free #EWI Event!\\n#AAPL and #FANG+: \"5 Waves\" ...  ...  Positive\n",
            "29  $AAPL #AAPL Ready for a repeat? https://t.co/z...  ...  Positive\n",
            "30  Zoomers... Don’t just be a consumer, be an inv...  ...  Positive\n",
            "31  The Big Five #FAANG Stock and Sector Service i...  ...   Neutral\n",
            "32  bullish trend idea  - #AAPL chart on @TradingV...  ...   Neutral\n",
            "\n",
            "[33 rows x 6 columns]\n",
            "[0.48484848484848486]\n",
            "2021-10-7\n",
            "                                               Tweets  ... Sentiment\n",
            "0   WE ARE NOW LIVE 👀 come join me and @realpristi...  ...  Positive\n",
            "1   https://t.co/t1s0GdXtIy MERCH - LUXURY GIFT LI...  ...   Neutral\n",
            "2   Check out my #AAPL analysis on @TradingView: h...  ...  Positive\n",
            "3   Apple Inc price at close, 2021-10-06, is 142. ...  ...   Neutral\n",
            "4   CHECK OUT https://t.co/t1s0GdFSR0 MERCH! THE H...  ...  Positive\n",
            "5   just dabbled with elliot wave theories this we...  ...  Negative\n",
            "6   Apple Vulnerable To EU Antitrust Action - Read...  ...  Negative\n",
            "7   #TheHighCapper #Canada is inviting you to join...  ...  Positive\n",
            "8   $AAPL closed today at $142.00.\\n\\nIf you bough...  ...  Negative\n",
            "9   #AAPL : Just managed to get above the ST trend...  ...   Neutral\n",
            "10  #AAPL - aapl - TradingView - https://t.co/ct1j...  ...   Neutral\n",
            "11  WATCH TOP 10 BEST TECHNOLOGY STOCKS INVESTING ...  ...  Positive\n",
            "12  😵‍💫🥴🤒🤑\\n$spy $sqqq $msft #aapl \\n\\nMoney print...  ...   Neutral\n",
            "13  The last 4 correction! - #AAPL chart on @Tradi...  ...   Neutral\n",
            "14  $AAPL Calls: Took the same entry again with a ...  ...  Positive\n",
            "15  @ProphitcyTrades BROOO IM HOLDING #AAPL &amp; ...  ...   Neutral\n",
            "16  @AAPL #AAPL Geo potential @ Support, bounce ?\\...  ...   Neutral\n",
            "17  $ETHE ETH up big and imo just the beginning im...  ...   Neutral\n",
            "18  Twitter Followers. Join my Free Discord page w...  ...  Positive\n",
            "19  Everyone Can Code Early Learners introduces co...  ...  Positive\n",
            "20      #AAPL Almost @support https://t.co/vTY4DhTNJ2  ...   Neutral\n",
            "21  Don’t be weary of the Stock Market, just think...  ...  Positive\n",
            "22  The Schoolwork app now includes support for ex...  ...  Positive\n",
            "23  &gt; $AAPL | Last Price: 140 | Previous Close:...  ...  Negative\n",
            "24  Check out my #AAPL analysis on @TradingView: h...  ...   Neutral\n",
            "25  #AAPL #AppleTV 'It's The Great Pumpkin, Charli...  ...  Positive\n",
            "26  SELL ALERT for #AAPL:  $139.43, Green Circle =...  ...  Negative\n",
            "27  BUY ALERT for #AAPL:  $138.65, Target Range: +...  ...   Neutral\n",
            "28  $AAPL Calls: Never mind. Took a small loss.\\n\\...  ...  Negative\n",
            "29  #AAPL - analysis grafical for APPL - TradingVi...  ...   Neutral\n",
            "30  #AAPL\\n\\nW-2 from A completed and started W-3 ...  ...   Neutral\n",
            "31  Apple is unveiling new resources for elementar...  ...  Positive\n",
            "32  $AAPL Calls: Small size.\\n\\nThe market is not ...  ...  Negative\n",
            "33  #AAPL #AMZN OVTLYR Launches First of its Kind ...  ...  Positive\n",
            "34  $AAPL: AAPL still not ready to strike a low. w...  ...  Positive\n",
            "35  #A_Peek_Into_The_Markets #AAPL #AYI #Earnings ...  ...  Negative\n",
            "36  #APeekIntoTheMarkets #AAPL A Peek Into The Mar...  ...  Negative\n",
            "37  Aloha Traders ☕🤙\\n\\nUpdated #Elliottwave count...  ...  Positive\n",
            "38  #5G #AAPL Apple Supplier Pegatron Joins Hands ...  ...   Neutral\n",
            "39  No dominant #Superapps here.#AMZN and #0VHA ha...  ...  Negative\n",
            "40  #AAPL you were alerted at top https://t.co/4SE...  ...  Positive\n",
            "41  Apple Co-Founder Steve Jobs Wanted Dell To Lic...  ...   Neutral\n",
            "42  #AAPL #DELL Apple Co-Founder Steve Jobs Wanted...  ...   Neutral\n",
            "43  #AAPL Technically looks great, will the overal...  ...  Positive\n",
            "44  @MarketRebels #pltr above $27.50\\n#gs above $3...  ...   Neutral\n",
            "45  $AAPL in the early stages of a correction - #A...  ...  Positive\n",
            "\n",
            "[46 rows x 6 columns]\n",
            "[0.48484848484848486, 0.391304347826087]\n",
            "2021-10-6\n",
            "                                               Tweets  ... Sentiment\n",
            "0   The new Modular Duo face on Apple Watch Series...  ...  Positive\n",
            "1   Took 1 Day Trade today on $AAPL\\n\\nI was watch...  ...  Positive\n",
            "2   Apple Inc price at close, 2021-10-05, is 141.1...  ...   Neutral\n",
            "3   #Apple, #Facebook, #Tesla, #Google, #Netflix, ...  ...  Positive\n",
            "4   @WSJmarkets #Facebook #AAPL ..who is next? #Go...  ...   Neutral\n",
            "5   #AAPL - Apple, Inc - TradingView - https://t.c...  ...   Neutral\n",
            "6   $AAPL closed today at $141.11.\\n\\nIf you bough...  ...  Negative\n",
            "7   @BTC_Archive How long till #Bitcoin is worth m...  ...  Positive\n",
            "8   Apple's line in the sand, bulls break out or r...  ...   Neutral\n",
            "9   $es $spy $spx if we base right here i think sh...  ...  Negative\n",
            "10  #AAPL : Bounce off oversold conditions and now...  ...  Positive\n",
            "11  $AAPL #AAPL Falling Wedge Daily https://t.co/p...  ...   Neutral\n",
            "12  Before I entered my trade on $AAPL to the long...  ...  Negative\n",
            "13  detected Dip for #AAPL at 139.36 in 10/5/2021 ...  ...   Neutral\n",
            "14  LONG on #AAPL. -Eric\\n\\n#Apple #StockMarket #t...  ...  Negative\n",
            "15  #AAPL \\n\\nUpdate look like we are end of W-1 o...  ...  Positive\n",
            "16  &lt; $AAPL | Last Price: 141.0714 | Previous C...  ...  Negative\n",
            "17          Buy the dip is back! #HODL #AAPL #Bullish  ...   Neutral\n",
            "18  $AAPL looks amazing for calls if it starts bre...  ...  Positive\n",
            "19  #AAL #AAPL #AMZN #BABA #BAC Rising Oil Prices ...  ...  Positive\n",
            "20  Alright I'm all out. Target hit on $AAPL \\n\\n#...  ...   Neutral\n",
            "21  Here is what I was seeing for $AAPL\\nTarget is...  ...   Neutral\n",
            "22  $WISH Let's get this.  Just another 2 cents sh...  ...  Positive\n",
            "23  Keeping an eye on $AAPL. Target will be around...  ...  Positive\n",
            "24  Which of these well known tech stocks will be ...  ...  Positive\n",
            "25  Cmon #AAPL do something https://t.co/ee1LQ7t3f...  ...   Neutral\n",
            "26  $AAPL bouncing but needs to break and hold abo...  ...  Negative\n",
            "27  I'm not gonna hold you, but this morning I wen...  ...   Neutral\n",
            "28  #AAPL, 1D #EW. If AAPL takes out previous swin...  ...  Negative\n",
            "29  The classic World Time face, based on heritage...  ...  Positive\n",
            "30  @aapltrdng commemorates tenth anniversary of S...  ...   Neutral\n",
            "31  Covered Calls Cash Flow Strategy: \\n Ticker: $...  ...   Neutral\n",
            "32  #TEF \\nToday        Target1         Target2\\n$...  ...   Neutral\n",
            "33  #5G #AAPL Apple Taken To Court By Ericsson Ove...  ...  Negative\n",
            "34  There’s no better time than NOW to purchase AP...  ...  Negative\n",
            "35  So happy I sold #FB. When I heard about their ...  ...  Positive\n",
            "36  #stock #USA #National debt #VIX #DJI #NASDAQ #...  ...   Neutral\n",
            "37  Bitcoin is set to become a legal tender in Bra...  ...  Positive\n",
            "38  How I’m Up 193% on THIS Stock 🚀https://t.co/2h...  ...   Neutral\n",
            "39  $AAPL target was $132ish \\n\\n#AAPL https://t.c...  ...   Neutral\n",
            "\n",
            "[40 rows x 6 columns]\n",
            "[0.48484848484848486, 0.391304347826087, 0.425]\n",
            "2021-10-5\n",
            "                                               Tweets  ... Sentiment\n",
            "0   Apple Watch Series 7 continues to offer indisp...  ...  Positive\n",
            "1   The display on Apple Watch Series 7 has a uniq...  ...  Positive\n",
            "2   AAPL trading in a channel.  - #AAPL chart on @...  ...   Neutral\n",
            "3   Apple Inc price at close, 2021-10-04, is 139.1...  ...   Neutral\n",
            "4   Apple Watch Series 7 is available in five bran...  ...  Positive\n",
            "5   /NQ touched the important trend line support w...  ...  Positive\n",
            "6   $AAPL closed today at $139.14.\\n\\nIf you bough...  ...  Negative\n",
            "7   #AAPL Algos are active selling: Short term htt...  ...  Negative\n",
            "8             Almost time to load up on $AAPL 🍏 #AAPL  ...   Neutral\n",
            "9   &gt; $AAPL | Last Price: 138.695 | Previous Cl...  ...  Negative\n",
            "10  [Update] $AAPL Daily. #AAPL daily bullish dive...  ...  Negative\n",
            "11  Apple Watch Series 7 orders start Friday, Octo...  ...   Neutral\n",
            "12  $FB took a spill today--are you looking into o...  ...  Negative\n",
            "13  #AAPL :Close to Second landing (at least for a...  ...  Negative\n",
            "14  &gt; $AAPL | Last Price: 138.83 | Previous Clo...  ...  Negative\n",
            "15  “Acapulco,” the highly anticipated 10-episode ...  ...  Positive\n",
            "16  My $AAPL target from JULY 29th is now hitting!...  ...  Positive\n",
            "17  &gt; $AAPL | Last Price: 138.98 | Previous Clo...  ...  Negative\n",
            "18  &gt; $AAPL | Last Price: 138.95 | Previous Clo...  ...  Negative\n",
            "19  Market is on sale, let's go shopping. Getting ...  ...  Negative\n",
            "20  Since 24th of Sep, All of them are drowning ex...  ...   Neutral\n",
            "21  SELL ALERT for #AAPL:  $139.72, Green Circle =...  ...  Negative\n",
            "22  BUY ALERT for #AAPL:  $140.15, Target Range: +...  ...   Neutral\n",
            "23         It’s a great day to buy more #AAPL stock 🤑  ...  Positive\n",
            "24  Looking at a days chart can be daunting.\\n\\nZo...  ...   Neutral\n",
            "25  #AAPL #AMD A Look into Share CFDs and the Top ...  ...  Positive\n",
            "26  Chips Ahoy! The semiconductor industry is reel...  ...   Neutral\n",
            "27  $AAPL in the early stages of a correction\\n\\nM...  ...  Positive\n",
            "28  #A_Peek_Into_The_Markets #AAPL #AMZN #CMTL #D ...  ...   Neutral\n",
            "29  #APeekIntoTheMarkets #AAPL A Peek Into The Mar...  ...   Neutral\n",
            "30  #AAPL #CMTL #D #Earnings #News 5 Stocks To Wat...  ...   Neutral\n",
            "31  #AAPL #CMTL 5 Stocks To Watch For October 4, 2...  ...   Neutral\n",
            "32  iPhone Users Of Facebook's WhatsApp To Get Col...  ...  Positive\n",
            "33  #AAPL #FB iPhone Users Of Facebook's WhatsApp ...  ...  Positive\n",
            "34  Apple Likely To Launch New MacBook Pro In 'Com...  ...  Positive\n",
            "35  #AAPL #bigtech Apple Likely To Launch New MacB...  ...  Positive\n",
            "36  #AAPL - falling wedge, looking for a breakout ...  ...   Neutral\n",
            "37  weekly preview stream $spy #SPY #Sp500 #aapl #...  ...   Neutral\n",
            "38  Apple Inc #AAPL famously captures the majority...  ...  Positive\n",
            "\n",
            "[39 rows x 6 columns]\n",
            "[0.48484848484848486, 0.391304347826087, 0.425, 0.358974358974359]\n",
            "2021-10-4\n",
            "                                              Tweets  ... Sentiment\n",
            "0  Market open makes for quick profits\\n\\n#microm...  ...  Positive\n",
            "1     @rookisaacman #AAPL really went to the moon 😆🚀  ...  Positive\n",
            "2  2017 Apple MacBook Pro laptop.  This laptop wa...  ...  Positive\n",
            "3  [Update] $AAPL Daily. #AAPL flashing daily bul...  ...   Neutral\n",
            "4  Images Of Apple Watch Series 7 Posted On Socia...  ...  Positive\n",
            "5  #AAPL #FB Images Of Apple Watch Series 7 Poste...  ...  Positive\n",
            "6  The Big Five #FAANG Stock and Sector Service i...  ...   Neutral\n",
            "7  #AAPL - buy idea on apple stock  - TradingView...  ...   Neutral\n",
            "8  #AAPL - AAPL - TradingView - https://t.co/A1eX...  ...   Neutral\n",
            "9  Not only Elon can manipulate stocks.. Apparent...  ...  Negative\n",
            "\n",
            "[10 rows x 6 columns]\n",
            "[0.48484848484848486, 0.391304347826087, 0.425, 0.358974358974359, 0.5]\n",
            "2021-10-3\n",
            "2021-10-2\n",
            "2021-10-1\n",
            "Empty DataFrame\n",
            "Columns: [Tweets, Time, Cleaned, Subjectivity, Polarity, Sentiment]\n",
            "Index: []\n"
          ]
        },
        {
          "output_type": "error",
          "ename": "IndexError",
          "evalue": "ignored",
          "traceback": [
            "\u001b[0;31m---------------------------------------------------------------------------\u001b[0m",
            "\u001b[0;31mIndexError\u001b[0m                                Traceback (most recent call last)",
            "\u001b[0;32m<ipython-input-28-a0c548ed6001>\u001b[0m in \u001b[0;36m<module>\u001b[0;34m()\u001b[0m\n\u001b[0;32m----> 1\u001b[0;31m \u001b[0maapl\u001b[0m \u001b[0;34m=\u001b[0m \u001b[0mgetSentsDf\u001b[0m\u001b[0;34m(\u001b[0m\u001b[0;34m'AAPL'\u001b[0m\u001b[0;34m)\u001b[0m\u001b[0;34m\u001b[0m\u001b[0;34m\u001b[0m\u001b[0m\n\u001b[0m\u001b[1;32m      2\u001b[0m \u001b[0maapl\u001b[0m\u001b[0;34m[\u001b[0m\u001b[0;34m'Price'\u001b[0m\u001b[0;34m]\u001b[0m \u001b[0;34m=\u001b[0m \u001b[0mgetStock\u001b[0m\u001b[0;34m(\u001b[0m\u001b[0;34m'AAPL'\u001b[0m\u001b[0;34m)\u001b[0m\u001b[0;34m\u001b[0m\u001b[0;34m\u001b[0m\u001b[0m\n\u001b[1;32m      3\u001b[0m \u001b[0;31m#print(aapl)\u001b[0m\u001b[0;34m\u001b[0m\u001b[0;34m\u001b[0m\u001b[0;34m\u001b[0m\u001b[0m\n\u001b[1;32m      4\u001b[0m \u001b[0mge\u001b[0m \u001b[0;34m=\u001b[0m \u001b[0mgetSentsDf\u001b[0m\u001b[0;34m(\u001b[0m\u001b[0;34m'GE'\u001b[0m\u001b[0;34m)\u001b[0m\u001b[0;34m\u001b[0m\u001b[0;34m\u001b[0m\u001b[0m\n\u001b[1;32m      5\u001b[0m \u001b[0mge\u001b[0m\u001b[0;34m[\u001b[0m\u001b[0;34m'Price'\u001b[0m\u001b[0;34m]\u001b[0m \u001b[0;34m=\u001b[0m \u001b[0mgetStock\u001b[0m\u001b[0;34m(\u001b[0m\u001b[0;34m'GE'\u001b[0m\u001b[0;34m)\u001b[0m\u001b[0;34m\u001b[0m\u001b[0;34m\u001b[0m\u001b[0m\n",
            "\u001b[0;32m<ipython-input-25-c1ab6c07a84e>\u001b[0m in \u001b[0;36mgetSentsDf\u001b[0;34m(stock)\u001b[0m\n\u001b[1;32m     12\u001b[0m       \u001b[0mdf\u001b[0m \u001b[0;34m=\u001b[0m \u001b[0mgetNumSents\u001b[0m\u001b[0;34m(\u001b[0m\u001b[0mstock\u001b[0m\u001b[0;34m,\u001b[0m\u001b[0mdate\u001b[0m\u001b[0;34m)\u001b[0m\u001b[0;34m\u001b[0m\u001b[0;34m\u001b[0m\u001b[0m\n\u001b[1;32m     13\u001b[0m       \u001b[0mprint\u001b[0m\u001b[0;34m(\u001b[0m\u001b[0mdf\u001b[0m\u001b[0;34m)\u001b[0m\u001b[0;34m\u001b[0m\u001b[0;34m\u001b[0m\u001b[0m\n\u001b[0;32m---> 14\u001b[0;31m       \u001b[0mt\u001b[0m \u001b[0;34m=\u001b[0m \u001b[0mdf\u001b[0m\u001b[0;34m[\u001b[0m\u001b[0;34m'Sentiment'\u001b[0m\u001b[0;34m]\u001b[0m\u001b[0;34m.\u001b[0m\u001b[0mvalue_counts\u001b[0m\u001b[0;34m(\u001b[0m\u001b[0mnormalize\u001b[0m \u001b[0;34m=\u001b[0m \u001b[0;32mTrue\u001b[0m\u001b[0;34m)\u001b[0m\u001b[0;34m[\u001b[0m\u001b[0;36m0\u001b[0m\u001b[0;34m]\u001b[0m\u001b[0;34m\u001b[0m\u001b[0;34m\u001b[0m\u001b[0m\n\u001b[0m\u001b[1;32m     15\u001b[0m       \u001b[0mt2\u001b[0m \u001b[0;34m=\u001b[0m \u001b[0mdf\u001b[0m\u001b[0;34m[\u001b[0m\u001b[0;34m'Sentiment'\u001b[0m\u001b[0;34m]\u001b[0m\u001b[0;34m.\u001b[0m\u001b[0mvalue_counts\u001b[0m\u001b[0;34m(\u001b[0m\u001b[0mnormalize\u001b[0m \u001b[0;34m=\u001b[0m \u001b[0;32mTrue\u001b[0m\u001b[0;34m)\u001b[0m\u001b[0;34m[\u001b[0m\u001b[0;36m1\u001b[0m\u001b[0;34m]\u001b[0m\u001b[0;34m\u001b[0m\u001b[0;34m\u001b[0m\u001b[0m\n\u001b[1;32m     16\u001b[0m \u001b[0;34m\u001b[0m\u001b[0m\n",
            "\u001b[0;32m/usr/local/lib/python3.7/dist-packages/pandas/core/series.py\u001b[0m in \u001b[0;36m__getitem__\u001b[0;34m(self, key)\u001b[0m\n\u001b[1;32m    877\u001b[0m \u001b[0;34m\u001b[0m\u001b[0m\n\u001b[1;32m    878\u001b[0m         \u001b[0;32mif\u001b[0m \u001b[0mis_integer\u001b[0m\u001b[0;34m(\u001b[0m\u001b[0mkey\u001b[0m\u001b[0;34m)\u001b[0m \u001b[0;32mand\u001b[0m \u001b[0mself\u001b[0m\u001b[0;34m.\u001b[0m\u001b[0mindex\u001b[0m\u001b[0;34m.\u001b[0m\u001b[0m_should_fallback_to_positional\u001b[0m\u001b[0;34m(\u001b[0m\u001b[0;34m)\u001b[0m\u001b[0;34m:\u001b[0m\u001b[0;34m\u001b[0m\u001b[0;34m\u001b[0m\u001b[0m\n\u001b[0;32m--> 879\u001b[0;31m             \u001b[0;32mreturn\u001b[0m \u001b[0mself\u001b[0m\u001b[0;34m.\u001b[0m\u001b[0m_values\u001b[0m\u001b[0;34m[\u001b[0m\u001b[0mkey\u001b[0m\u001b[0;34m]\u001b[0m\u001b[0;34m\u001b[0m\u001b[0;34m\u001b[0m\u001b[0m\n\u001b[0m\u001b[1;32m    880\u001b[0m \u001b[0;34m\u001b[0m\u001b[0m\n\u001b[1;32m    881\u001b[0m         \u001b[0;32melif\u001b[0m \u001b[0mkey_is_scalar\u001b[0m\u001b[0;34m:\u001b[0m\u001b[0;34m\u001b[0m\u001b[0;34m\u001b[0m\u001b[0m\n",
            "\u001b[0;31mIndexError\u001b[0m: index 0 is out of bounds for axis 0 with size 0"
          ]
        }
      ]
    },
    {
      "cell_type": "code",
      "metadata": {
        "id": "A6AX62MqDIxC"
      },
      "source": [
        "#Use to gather dataset of sotck sentiment\n",
        "def accumulate(doink):\n",
        "    pp = pd.DataFrame()\n",
        "    for index, row in doink.iterrows():\n",
        "      pp = pp.append(getSentsDf(row['Symbol']))\n",
        "    return pp\n"
      ],
      "execution_count": null,
      "outputs": []
    },
    {
      "cell_type": "code",
      "metadata": {
        "id": "EvczO6EB-20g"
      },
      "source": [
        "x = frame.drop('Price', axis = 1)\n",
        "y = frame[[\"Price\"]]\n",
        "y.head()\n",
        "x.head()\n",
        "from sklearn.linear_model import LinearRegression\n",
        "lm = LinearRegression()\n",
        "model = lm.fit(x,y)"
      ],
      "execution_count": null,
      "outputs": []
    },
    {
      "cell_type": "code",
      "metadata": {
        "id": "MSydir_0EX2g"
      },
      "source": [
        "def predict(stikr, date):\n",
        "  gg = getNumSents(stikr, date)\n",
        "  t = gg['Sentiment'].value_counts(normalize = True)[0]\n",
        "  t2 = gg['Sentiment'].value_counts(normalize = True)[1]\n",
        "  t3 = weekno = datetime.datetime.strptime(date, '%Y-%m-%d').date().weekday()\n",
        "  new_data = [[t],[t2],[t3]]\n",
        "  new_data = pd.DataFrame(new_data).T\n",
        "  return model.predict(new_data)"
      ],
      "execution_count": null,
      "outputs": []
    },
    {
      "cell_type": "code",
      "metadata": {
        "colab": {
          "base_uri": "https://localhost:8080/"
        },
        "id": "fiCBdmLH9j4g",
        "outputId": "24709ec9-bf21-473c-c4e3-47aa47757ed7"
      },
      "source": [
        "\n",
        "predict('AAPL', '2021-09-28')"
      ],
      "execution_count": null,
      "outputs": [
        {
          "output_type": "execute_result",
          "data": {
            "text/plain": [
              "array([[0.63050511]])"
            ]
          },
          "metadata": {},
          "execution_count": 39
        }
      ]
    },
    {
      "cell_type": "code",
      "metadata": {
        "colab": {
          "base_uri": "https://localhost:8080/"
        },
        "id": "yUUZloW7HcEz",
        "outputId": "7833bb23-f3cb-4851-a51a-cd6b51d6b2a3"
      },
      "source": [
        "ps = yf.download('AAPL', \n",
        "                      start='2021-09-24', \n",
        "                      end='2021-09-29', \n",
        "                      progress=False,\n",
        "  )\n",
        "\n",
        "\n",
        "ps = ps[['Adj Close']]\n",
        "ps['Shift'] = ps['Adj Close'].shift(1)\n",
        "ps['Diff'] = ps['Adj Close'] - ps['Shift']\n",
        "ps['% Change'] = ps['Diff']/ps['Adj Close']\n",
        "print(ps)"
      ],
      "execution_count": null,
      "outputs": [
        {
          "output_type": "stream",
          "name": "stdout",
          "text": [
            "             Adj Close       Shift      Diff  % Change\n",
            "Date                                                  \n",
            "2021-09-24  146.919998         NaN       NaN       NaN\n",
            "2021-09-27  145.369995  146.919998 -1.550003 -0.010662\n",
            "2021-09-28  141.910004  145.369995 -3.459991 -0.024382\n"
          ]
        },
        {
          "output_type": "stream",
          "name": "stderr",
          "text": [
            "/usr/local/lib/python3.7/dist-packages/ipykernel_launcher.py:9: SettingWithCopyWarning: \n",
            "A value is trying to be set on a copy of a slice from a DataFrame.\n",
            "Try using .loc[row_indexer,col_indexer] = value instead\n",
            "\n",
            "See the caveats in the documentation: https://pandas.pydata.org/pandas-docs/stable/user_guide/indexing.html#returning-a-view-versus-a-copy\n",
            "  if __name__ == '__main__':\n",
            "/usr/local/lib/python3.7/dist-packages/ipykernel_launcher.py:10: SettingWithCopyWarning: \n",
            "A value is trying to be set on a copy of a slice from a DataFrame.\n",
            "Try using .loc[row_indexer,col_indexer] = value instead\n",
            "\n",
            "See the caveats in the documentation: https://pandas.pydata.org/pandas-docs/stable/user_guide/indexing.html#returning-a-view-versus-a-copy\n",
            "  # Remove the CWD from sys.path while we load stuff.\n",
            "/usr/local/lib/python3.7/dist-packages/ipykernel_launcher.py:11: SettingWithCopyWarning: \n",
            "A value is trying to be set on a copy of a slice from a DataFrame.\n",
            "Try using .loc[row_indexer,col_indexer] = value instead\n",
            "\n",
            "See the caveats in the documentation: https://pandas.pydata.org/pandas-docs/stable/user_guide/indexing.html#returning-a-view-versus-a-copy\n",
            "  # This is added back by InteractiveShellApp.init_path()\n"
          ]
        }
      ]
    },
    {
      "cell_type": "code",
      "metadata": {
        "id": "ZL3V8LbM7ycy"
      },
      "source": [
        "url = 'https://raw.githubusercontent.com/datasets/s-and-p-500-companies/master/data/constituents.csv'\n",
        "sp=pd.read_csv(url)"
      ],
      "execution_count": null,
      "outputs": []
    },
    {
      "cell_type": "code",
      "metadata": {
        "id": "1I0wX5t7pSQn"
      },
      "source": [
        "lol = sp.loc[sp['Symbol'] == 'AAPL']\n",
        "lol = lol.append(sp.loc[sp['Symbol'] == 'AMZN'])\n",
        "#lol = lol.append(sp.loc[sp['Symbol'] == 'ZBRA'])\n",
        "#lol = lol.append(sp.loc[sp['Symbol'] == 'ZION'])\n",
        "#lol = lol.append(sp.loc[sp['Symbol'] == 'PYPL'])\n",
        "#lol = lol.append(sp.loc[sp['Symbol'] == 'ORCL'])\n",
        "#lol = lol.append(sp.loc[sp['Symbol'] == 'ATVI'])\n",
        "#lol = lol.append(sp.loc[sp['Symbol'] == 'ADBE'])\n",
        "#lol = lol.append(sp.loc[sp['Symbol'] == 'AMD'])\n",
        "#lol = lol.append(sp.loc[sp['Symbol'] == 'GOOGL'])\n"
      ],
      "execution_count": null,
      "outputs": []
    },
    {
      "cell_type": "code",
      "metadata": {
        "id": "p_Z_Tqv0TyIE"
      },
      "source": [
        "bbb = sp.sample(frac=0.25,random_state=1)"
      ],
      "execution_count": null,
      "outputs": []
    },
    {
      "cell_type": "code",
      "metadata": {
        "colab": {
          "base_uri": "https://localhost:8080/"
        },
        "id": "-ZqGO4adxZ0b",
        "outputId": "118abfad-e5c1-4f20-af06-fc8fc9222b1f"
      },
      "source": [
        ""
      ],
      "execution_count": null,
      "outputs": [
        {
          "output_type": "stream",
          "name": "stdout",
          "text": [
            "COP\n",
            "ORCL\n",
            "TXN\n"
          ]
        }
      ]
    },
    {
      "cell_type": "code",
      "metadata": {
        "colab": {
          "base_uri": "https://localhost:8080/"
        },
        "id": "uxTknb5lv8h5",
        "outputId": "a7a414cd-695a-4ffa-b9f4-6a7ecfcc70e6"
      },
      "source": [
        ""
      ],
      "execution_count": null,
      "outputs": [
        {
          "output_type": "execute_result",
          "data": {
            "text/plain": [
              "['', ' a hello ', ' Hi']"
            ]
          },
          "metadata": {},
          "execution_count": 6
        }
      ]
    },
    {
      "cell_type": "code",
      "metadata": {
        "id": "jbWh3dGOj0x5",
        "colab": {
          "base_uri": "https://localhost:8080/",
          "height": 419
        },
        "outputId": "d4cc532b-b2f0-4d35-dc0a-8d5fb81abd96"
      },
      "source": [
        "sp"
      ],
      "execution_count": null,
      "outputs": [
        {
          "output_type": "execute_result",
          "data": {
            "text/html": [
              "<div>\n",
              "<style scoped>\n",
              "    .dataframe tbody tr th:only-of-type {\n",
              "        vertical-align: middle;\n",
              "    }\n",
              "\n",
              "    .dataframe tbody tr th {\n",
              "        vertical-align: top;\n",
              "    }\n",
              "\n",
              "    .dataframe thead th {\n",
              "        text-align: right;\n",
              "    }\n",
              "</style>\n",
              "<table border=\"1\" class=\"dataframe\">\n",
              "  <thead>\n",
              "    <tr style=\"text-align: right;\">\n",
              "      <th></th>\n",
              "      <th>Symbol</th>\n",
              "      <th>Name</th>\n",
              "      <th>Sector</th>\n",
              "    </tr>\n",
              "  </thead>\n",
              "  <tbody>\n",
              "    <tr>\n",
              "      <th>0</th>\n",
              "      <td>MMM</td>\n",
              "      <td>3M</td>\n",
              "      <td>Industrials</td>\n",
              "    </tr>\n",
              "    <tr>\n",
              "      <th>1</th>\n",
              "      <td>AOS</td>\n",
              "      <td>A. O. Smith</td>\n",
              "      <td>Industrials</td>\n",
              "    </tr>\n",
              "    <tr>\n",
              "      <th>2</th>\n",
              "      <td>ABT</td>\n",
              "      <td>Abbott Laboratories</td>\n",
              "      <td>Health Care</td>\n",
              "    </tr>\n",
              "    <tr>\n",
              "      <th>3</th>\n",
              "      <td>ABBV</td>\n",
              "      <td>AbbVie</td>\n",
              "      <td>Health Care</td>\n",
              "    </tr>\n",
              "    <tr>\n",
              "      <th>4</th>\n",
              "      <td>ABMD</td>\n",
              "      <td>Abiomed</td>\n",
              "      <td>Health Care</td>\n",
              "    </tr>\n",
              "    <tr>\n",
              "      <th>...</th>\n",
              "      <td>...</td>\n",
              "      <td>...</td>\n",
              "      <td>...</td>\n",
              "    </tr>\n",
              "    <tr>\n",
              "      <th>500</th>\n",
              "      <td>YUM</td>\n",
              "      <td>Yum! Brands</td>\n",
              "      <td>Consumer Discretionary</td>\n",
              "    </tr>\n",
              "    <tr>\n",
              "      <th>501</th>\n",
              "      <td>ZBRA</td>\n",
              "      <td>Zebra Technologies</td>\n",
              "      <td>Information Technology</td>\n",
              "    </tr>\n",
              "    <tr>\n",
              "      <th>502</th>\n",
              "      <td>ZBH</td>\n",
              "      <td>Zimmer Biomet</td>\n",
              "      <td>Health Care</td>\n",
              "    </tr>\n",
              "    <tr>\n",
              "      <th>503</th>\n",
              "      <td>ZION</td>\n",
              "      <td>Zions Bancorp</td>\n",
              "      <td>Financials</td>\n",
              "    </tr>\n",
              "    <tr>\n",
              "      <th>504</th>\n",
              "      <td>ZTS</td>\n",
              "      <td>Zoetis</td>\n",
              "      <td>Health Care</td>\n",
              "    </tr>\n",
              "  </tbody>\n",
              "</table>\n",
              "<p>505 rows × 3 columns</p>\n",
              "</div>"
            ],
            "text/plain": [
              "    Symbol                 Name                  Sector\n",
              "0      MMM                   3M             Industrials\n",
              "1      AOS          A. O. Smith             Industrials\n",
              "2      ABT  Abbott Laboratories             Health Care\n",
              "3     ABBV               AbbVie             Health Care\n",
              "4     ABMD              Abiomed             Health Care\n",
              "..     ...                  ...                     ...\n",
              "500    YUM          Yum! Brands  Consumer Discretionary\n",
              "501   ZBRA   Zebra Technologies  Information Technology\n",
              "502    ZBH        Zimmer Biomet             Health Care\n",
              "503   ZION        Zions Bancorp              Financials\n",
              "504    ZTS               Zoetis             Health Care\n",
              "\n",
              "[505 rows x 3 columns]"
            ]
          },
          "metadata": {},
          "execution_count": 38
        }
      ]
    },
    {
      "cell_type": "code",
      "metadata": {
        "colab": {
          "base_uri": "https://localhost:8080/",
          "height": 249
        },
        "id": "icrej6mN5OnV",
        "outputId": "4714e62f-352f-4d8c-9cbc-9b93af2e38ee"
      },
      "source": [
        "plt.figure(figsize = (8,6))\n",
        "for i in range(0,df.shape[0]):\n",
        "    plt.scatter(df['Polarity'][i], df['Subjectivity'][i], color = 'Purple')\n",
        "plt.title('Sentiment Analysis Scatter Plot')\n",
        "plt.xlabel('Polarity')\n",
        "plt.ylabel('Subjectivity')\n",
        "plt.show()"
      ],
      "execution_count": null,
      "outputs": [
        {
          "output_type": "error",
          "ename": "NameError",
          "evalue": "ignored",
          "traceback": [
            "\u001b[0;31m---------------------------------------------------------------------------\u001b[0m",
            "\u001b[0;31mNameError\u001b[0m                                 Traceback (most recent call last)",
            "\u001b[0;32m<ipython-input-19-aad08c7efe4d>\u001b[0m in \u001b[0;36m<module>\u001b[0;34m()\u001b[0m\n\u001b[1;32m      1\u001b[0m \u001b[0mplt\u001b[0m\u001b[0;34m.\u001b[0m\u001b[0mfigure\u001b[0m\u001b[0;34m(\u001b[0m\u001b[0mfigsize\u001b[0m \u001b[0;34m=\u001b[0m \u001b[0;34m(\u001b[0m\u001b[0;36m8\u001b[0m\u001b[0;34m,\u001b[0m\u001b[0;36m6\u001b[0m\u001b[0;34m)\u001b[0m\u001b[0;34m)\u001b[0m\u001b[0;34m\u001b[0m\u001b[0;34m\u001b[0m\u001b[0m\n\u001b[0;32m----> 2\u001b[0;31m \u001b[0;32mfor\u001b[0m \u001b[0mi\u001b[0m \u001b[0;32min\u001b[0m \u001b[0mrange\u001b[0m\u001b[0;34m(\u001b[0m\u001b[0;36m0\u001b[0m\u001b[0;34m,\u001b[0m\u001b[0mdf\u001b[0m\u001b[0;34m.\u001b[0m\u001b[0mshape\u001b[0m\u001b[0;34m[\u001b[0m\u001b[0;36m0\u001b[0m\u001b[0;34m]\u001b[0m\u001b[0;34m)\u001b[0m\u001b[0;34m:\u001b[0m\u001b[0;34m\u001b[0m\u001b[0;34m\u001b[0m\u001b[0m\n\u001b[0m\u001b[1;32m      3\u001b[0m     \u001b[0mplt\u001b[0m\u001b[0;34m.\u001b[0m\u001b[0mscatter\u001b[0m\u001b[0;34m(\u001b[0m\u001b[0mdf\u001b[0m\u001b[0;34m[\u001b[0m\u001b[0;34m'Polarity'\u001b[0m\u001b[0;34m]\u001b[0m\u001b[0;34m[\u001b[0m\u001b[0mi\u001b[0m\u001b[0;34m]\u001b[0m\u001b[0;34m,\u001b[0m \u001b[0mdf\u001b[0m\u001b[0;34m[\u001b[0m\u001b[0;34m'Subjectivity'\u001b[0m\u001b[0;34m]\u001b[0m\u001b[0;34m[\u001b[0m\u001b[0mi\u001b[0m\u001b[0;34m]\u001b[0m\u001b[0;34m,\u001b[0m \u001b[0mcolor\u001b[0m \u001b[0;34m=\u001b[0m \u001b[0;34m'Purple'\u001b[0m\u001b[0;34m)\u001b[0m\u001b[0;34m\u001b[0m\u001b[0;34m\u001b[0m\u001b[0m\n\u001b[1;32m      4\u001b[0m \u001b[0mplt\u001b[0m\u001b[0;34m.\u001b[0m\u001b[0mtitle\u001b[0m\u001b[0;34m(\u001b[0m\u001b[0;34m'Sentiment Analysis Scatter Plot'\u001b[0m\u001b[0;34m)\u001b[0m\u001b[0;34m\u001b[0m\u001b[0;34m\u001b[0m\u001b[0m\n\u001b[1;32m      5\u001b[0m \u001b[0mplt\u001b[0m\u001b[0;34m.\u001b[0m\u001b[0mxlabel\u001b[0m\u001b[0;34m(\u001b[0m\u001b[0;34m'Polarity'\u001b[0m\u001b[0;34m)\u001b[0m\u001b[0;34m\u001b[0m\u001b[0;34m\u001b[0m\u001b[0m\n",
            "\u001b[0;31mNameError\u001b[0m: name 'df' is not defined"
          ]
        },
        {
          "output_type": "display_data",
          "data": {
            "text/plain": [
              "<Figure size 576x432 with 0 Axes>"
            ]
          },
          "metadata": {}
        }
      ]
    },
    {
      "cell_type": "code",
      "metadata": {
        "colab": {
          "base_uri": "https://localhost:8080/",
          "height": 232
        },
        "id": "EeiZWrey5iTt",
        "outputId": "46b191b4-756e-4e48-ee4e-a00d1a34e360"
      },
      "source": [
        "df['Sentiment'].value_counts().plot(kind = 'bar')\n",
        "plt.title('Sentiment Analysis Bar Plot')\n",
        "plt.xlabel('Sentiment')\n",
        "plt.ylabel('Number of Tweets')\n",
        "plt.show()"
      ],
      "execution_count": null,
      "outputs": [
        {
          "output_type": "error",
          "ename": "NameError",
          "evalue": "ignored",
          "traceback": [
            "\u001b[0;31m---------------------------------------------------------------------------\u001b[0m",
            "\u001b[0;31mNameError\u001b[0m                                 Traceback (most recent call last)",
            "\u001b[0;32m<ipython-input-14-3b4b9034dc18>\u001b[0m in \u001b[0;36m<module>\u001b[0;34m()\u001b[0m\n\u001b[0;32m----> 1\u001b[0;31m \u001b[0mdf\u001b[0m\u001b[0;34m[\u001b[0m\u001b[0;34m'Sentiment'\u001b[0m\u001b[0;34m]\u001b[0m\u001b[0;34m.\u001b[0m\u001b[0mvalue_counts\u001b[0m\u001b[0;34m(\u001b[0m\u001b[0;34m)\u001b[0m\u001b[0;34m.\u001b[0m\u001b[0mplot\u001b[0m\u001b[0;34m(\u001b[0m\u001b[0mkind\u001b[0m \u001b[0;34m=\u001b[0m \u001b[0;34m'bar'\u001b[0m\u001b[0;34m)\u001b[0m\u001b[0;34m\u001b[0m\u001b[0;34m\u001b[0m\u001b[0m\n\u001b[0m\u001b[1;32m      2\u001b[0m \u001b[0mplt\u001b[0m\u001b[0;34m.\u001b[0m\u001b[0mtitle\u001b[0m\u001b[0;34m(\u001b[0m\u001b[0;34m'Sentiment Analysis Bar Plot'\u001b[0m\u001b[0;34m)\u001b[0m\u001b[0;34m\u001b[0m\u001b[0;34m\u001b[0m\u001b[0m\n\u001b[1;32m      3\u001b[0m \u001b[0mplt\u001b[0m\u001b[0;34m.\u001b[0m\u001b[0mxlabel\u001b[0m\u001b[0;34m(\u001b[0m\u001b[0;34m'Sentiment'\u001b[0m\u001b[0;34m)\u001b[0m\u001b[0;34m\u001b[0m\u001b[0;34m\u001b[0m\u001b[0m\n\u001b[1;32m      4\u001b[0m \u001b[0mplt\u001b[0m\u001b[0;34m.\u001b[0m\u001b[0mylabel\u001b[0m\u001b[0;34m(\u001b[0m\u001b[0;34m'Number of Tweets'\u001b[0m\u001b[0;34m)\u001b[0m\u001b[0;34m\u001b[0m\u001b[0;34m\u001b[0m\u001b[0m\n\u001b[1;32m      5\u001b[0m \u001b[0mplt\u001b[0m\u001b[0;34m.\u001b[0m\u001b[0mshow\u001b[0m\u001b[0;34m(\u001b[0m\u001b[0;34m)\u001b[0m\u001b[0;34m\u001b[0m\u001b[0;34m\u001b[0m\u001b[0m\n",
            "\u001b[0;31mNameError\u001b[0m: name 'df' is not defined"
          ]
        }
      ]
    },
    {
      "cell_type": "code",
      "metadata": {
        "id": "3V0pZX7k5Rjp"
      },
      "source": [
        ""
      ],
      "execution_count": null,
      "outputs": []
    }
  ]
}